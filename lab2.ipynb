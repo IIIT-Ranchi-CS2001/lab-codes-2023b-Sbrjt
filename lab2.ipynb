{
 "cells": [
  {
   "cell_type": "code",
   "execution_count": 3,
   "metadata": {},
   "outputs": [
    {
     "name": "stdout",
     "output_type": "stream",
     "text": [
      "mAHA bHARAT\n",
      "Bharat\n",
      "BharatBharatBharat\n",
      "Mera Bharat\n",
      "Mera Bharat Mahan\n"
     ]
    }
   ],
   "source": [
    "s = 'Maha Bharat'\n",
    "\n",
    "a, b = s.split()\n",
    "\n",
    "print(a[0].lower() + a[1:].upper() + ' ' + b[0].lower() + b[1:].upper())\n",
    "\n",
    "print(b)\n",
    "\n",
    "print(b * 3)\n",
    "\n",
    "s = 'Mera ' + b\n",
    "print(s)\n",
    "\n",
    "s = s + ' Mahan'\n",
    "print(s)"
   ]
  },
  {
   "cell_type": "code",
   "execution_count": 4,
   "metadata": {},
   "outputs": [
    {
     "name": "stdout",
     "output_type": "stream",
     "text": [
      "17\n",
      "14\n",
      "3\n",
      "Ta Ta Black Sheep\n"
     ]
    }
   ],
   "source": [
    "s = 'Ba Ba Black Sheep'\n",
    "\n",
    "print(len(s))\n",
    "print(s.find('e'))\n",
    "print(s.count('a'))\n",
    "s = s.replace('Ba', 'Ta')\n",
    "print(s)"
   ]
  },
  {
   "cell_type": "code",
   "execution_count": 5,
   "metadata": {},
   "outputs": [
    {
     "name": "stdout",
     "output_type": "stream",
     "text": [
      "Palindrome\n"
     ]
    }
   ],
   "source": [
    "s = input('Enter string: ')\n",
    "\n",
    "print('Palindrome' if s == s[::-1] else 'Not palindrome')"
   ]
  },
  {
   "cell_type": "code",
   "execution_count": 9,
   "metadata": {},
   "outputs": [
    {
     "name": "stdout",
     "output_type": "stream",
     "text": [
      "\n",
      "Name:       shub\n",
      "Roll:       49\n",
      "Marks:      75\n",
      "Grade:      8\n",
      "Remarks:    Good\n",
      "\n"
     ]
    }
   ],
   "source": [
    "name = input('Enter name: ')\n",
    "roll = input('Enter roll: ')\n",
    "marks = int(input('Enter marks: '))\n",
    "\n",
    "if marks >= 90:\n",
    "    grade = 10\n",
    "    remark = 'Outstanding'\n",
    "elif marks >= 80:\n",
    "    grade = 9\n",
    "    remark = 'Very good'\n",
    "elif marks >= 70:\n",
    "    grade = 8\n",
    "    remark = 'Good'\n",
    "elif marks >= 60:\n",
    "    grade = 7\n",
    "    remark = 'Average'\n",
    "elif marks >= 50:\n",
    "    grade = 6\n",
    "    remark = 'Pass'\n",
    "else:\n",
    "    grade = 0\n",
    "    remark = 'Fail'\n",
    "\n",
    "print(\n",
    "    f\"\"\"\n",
    "Name:       {name}\n",
    "Roll:       {roll}\n",
    "Marks:      {marks}\n",
    "Grade:      {grade}\n",
    "Remarks:    {remark}\n",
    "\"\"\"\n",
    ")"
   ]
  },
  {
   "cell_type": "code",
   "execution_count": 16,
   "metadata": {},
   "outputs": [
    {
     "name": "stdout",
     "output_type": "stream",
     "text": [
      "5x² + 2x + 9 = 0\n",
      "Complex roots: (-0.2+1.3266499161421599j) (-0.2+1.3266499161421599j)\n"
     ]
    }
   ],
   "source": [
    "from math import sqrt\n",
    "\n",
    "a, b, c = list(map(int, input('Enter a, b, c: ').split()))\n",
    "print(f'{a}x² + {b}x + {c} = 0')\n",
    "\n",
    "d = b**2 - 4 * a * c\n",
    "\n",
    "if d == 0:\n",
    "    print('Real repeated roots:', -b / (2 * a))\n",
    "elif d > 0:\n",
    "    print('Real roots:', (-b + sqrt(d)) / (2 * a), (-b - sqrt(d)) / (2 * a))\n",
    "else:\n",
    "    X = -b / (2 * a)\n",
    "    Y = sqrt(-d) / (2 * a)\n",
    "    print('Complex roots:', complex(X, Y), complex(X, Y))"
   ]
  }
 ],
 "metadata": {
  "kernelspec": {
   "display_name": "Python 3",
   "language": "python",
   "name": "python3"
  },
  "language_info": {
   "codemirror_mode": {
    "name": "ipython",
    "version": 3
   },
   "file_extension": ".py",
   "mimetype": "text/x-python",
   "name": "python",
   "nbconvert_exporter": "python",
   "pygments_lexer": "ipython3",
   "version": "3.12.3"
  }
 },
 "nbformat": 4,
 "nbformat_minor": 2
}

{
 "cells": [
  {
   "cell_type": "code",
   "execution_count": 1,
   "metadata": {},
   "outputs": [
    {
     "name": "stdout",
     "output_type": "stream",
     "text": [
      "2\n"
     ]
    }
   ],
   "source": [
    "s = input(\"Enter sentence: \")\n",
    "\n",
    "count = 0\n",
    "\n",
    "for i in s.split():\n",
    "    if i == i[::-1]:\n",
    "        count += 1\n",
    "\n",
    "print(count)"
   ]
  },
  {
   "cell_type": "code",
   "execution_count": 6,
   "metadata": {},
   "outputs": [
    {
     "name": "stdout",
     "output_type": "stream",
     "text": [
      "[1, 0, 3, 31, 4, 0, 0, 1]\n",
      "Mean:  5.0\n",
      "Median:  1.0\n",
      "Mode: 0\n"
     ]
    }
   ],
   "source": [
    "s = \"1 0 3 31 4 0 0 1\"\n",
    "\n",
    "l = [int(i) for i in s.split()]\n",
    "n = len(l)\n",
    "print(l)\n",
    "\n",
    "print(\"Mean: \", sum(l) / n)\n",
    "\n",
    "l.sort()\n",
    "median = l[n // 2] if n % 2 == 1 else ((l[n // 2] + l[n // 2 - 1]) / 2)\n",
    "print(\"Median: \", median)\n",
    "\n",
    "freq = {}\n",
    "\n",
    "for i in l:\n",
    "    if i in freq:\n",
    "        freq[i] += 1\n",
    "    else:\n",
    "        freq[i] = 1\n",
    "\n",
    "print(\"Mode:\", max(freq, key=freq.get))"
   ]
  },
  {
   "cell_type": "code",
   "execution_count": 3,
   "metadata": {},
   "outputs": [
    {
     "name": "stdout",
     "output_type": "stream",
     "text": [
      "['CS1001 : Python', 'CS-2005 : TOC']\n"
     ]
    }
   ],
   "source": [
    "code = [\"CS1001\", \"CS-2005\"]\n",
    "course = [\"Python\", \"TOC\"]\n",
    "\n",
    "x = [f\"{i} : {j}\" for i, j in (zip(code, course))]\n",
    "\n",
    "print(x)"
   ]
  },
  {
   "cell_type": "code",
   "execution_count": 2,
   "metadata": {},
   "outputs": [
    {
     "name": "stdout",
     "output_type": "stream",
     "text": [
      "All students:  {'pal', 'sophie', 'rahul', 'tom', 'zach', 'john', 'laura', 'ram'}\n",
      "All rounders:  {'sophie', 'john'}\n",
      "Dancers, not singers:  {'ram', 'laura', 'zach', 'tom'}\n",
      "Singers, not dancers:  {'pal', 'rahul'}\n",
      "Singers but not dancers and dancers but not singers:  {'zach', 'pal', 'laura', 'ram', 'rahul', 'tom'}\n"
     ]
    }
   ],
   "source": [
    "singers = {\"rahul\", \"john\", \"pal\", \"sophie\"}\n",
    "dancers = {\"ram\", \"john\", \"tom\", \"zach\", \"laura\", \"sophie\"}\n",
    "\n",
    "print(\"All students: \", singers | dancers)\n",
    "print(\"All rounders: \", singers & dancers)\n",
    "print(\"Dancers, not singers: \", dancers - singers)\n",
    "print(\"Singers, not dancers: \", singers - dancers)\n",
    "print(\"Singers but not dancers and dancers but not singers: \", singers ^ dancers)"
   ]
  }
 ],
 "metadata": {
  "kernelspec": {
   "display_name": "Python 3",
   "language": "python",
   "name": "python3"
  },
  "language_info": {
   "codemirror_mode": {
    "name": "ipython",
    "version": 3
   },
   "file_extension": ".py",
   "mimetype": "text/x-python",
   "name": "python",
   "nbconvert_exporter": "python",
   "pygments_lexer": "ipython3",
   "version": "3.12.3"
  }
 },
 "nbformat": 4,
 "nbformat_minor": 2
}
